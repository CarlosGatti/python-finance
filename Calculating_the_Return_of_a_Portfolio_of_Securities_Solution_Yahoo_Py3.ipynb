{
  "nbformat": 4,
  "nbformat_minor": 0,
  "metadata": {
    "kernelspec": {
      "display_name": "Python 3",
      "language": "python",
      "name": "python3"
    },
    "language_info": {
      "codemirror_mode": {
        "name": "ipython",
        "version": 3
      },
      "file_extension": ".py",
      "mimetype": "text/x-python",
      "name": "python",
      "nbconvert_exporter": "python",
      "pygments_lexer": "ipython3",
      "version": "3.7.0"
    },
    "colab": {
      "name": "Calculating the Return of a Portfolio of Securities - Solution_Yahoo_Py3.ipynb",
      "provenance": [],
      "include_colab_link": true
    }
  },
  "cells": [
    {
      "cell_type": "markdown",
      "metadata": {
        "id": "view-in-github",
        "colab_type": "text"
      },
      "source": [
        "<a href=\"https://colab.research.google.com/github/CarlosGatti/python-finance/blob/main/Calculating_the_Return_of_a_Portfolio_of_Securities_Solution_Yahoo_Py3.ipynb\" target=\"_parent\"><img src=\"https://colab.research.google.com/assets/colab-badge.svg\" alt=\"Open In Colab\"/></a>"
      ]
    },
    {
      "cell_type": "markdown",
      "metadata": {
        "id": "LAVxDAyNgdyr"
      },
      "source": [
        "## Calculating the Return of a Portfolio of Securities"
      ]
    },
    {
      "cell_type": "markdown",
      "metadata": {
        "id": "o2KwK0B3gdys"
      },
      "source": [
        "*Suggested Answers follow (usually there are multiple ways to solve a problem in Python).*"
      ]
    },
    {
      "cell_type": "markdown",
      "metadata": {
        "id": "IW9vnWHSgdyt"
      },
      "source": [
        "Download data for a portfolio composed of 5 stocks. Do it for British Petroleum, Ford, Exxon, Lincoln, and Apple for the period ‘2000-1-1’ until today."
      ]
    },
    {
      "cell_type": "code",
      "metadata": {
        "id": "7ZpKT601gdyt"
      },
      "source": [
        "import numpy as np\n",
        "import pandas as pd\n",
        "from pandas_datareader import data as wb\n",
        "import matplotlib.pyplot as plt"
      ],
      "execution_count": null,
      "outputs": []
    },
    {
      "cell_type": "code",
      "metadata": {
        "id": "_cV5lIj5gdyu"
      },
      "source": [
        "tickers = ['BP', 'F', 'XOM', 'LNC', 'AAPL']\n",
        "mydata = pd.DataFrame()\n",
        "for t in tickers:\n",
        "    mydata[t] = wb.DataReader(t, data_source='yahoo', start='2021-1-1')['Adj Close']"
      ],
      "execution_count": null,
      "outputs": []
    },
    {
      "cell_type": "code",
      "metadata": {
        "colab": {
          "base_uri": "https://localhost:8080/"
        },
        "id": "x1JbSR17gdyu",
        "outputId": "0dce3a1f-3bfb-4a6b-a030-5dbdc3790fe4"
      },
      "source": [
        "mydata.info()"
      ],
      "execution_count": null,
      "outputs": [
        {
          "output_type": "stream",
          "text": [
            "<class 'pandas.core.frame.DataFrame'>\n",
            "DatetimeIndex: 48 entries, 2021-01-04 to 2021-03-12\n",
            "Data columns (total 5 columns):\n",
            " #   Column  Non-Null Count  Dtype  \n",
            "---  ------  --------------  -----  \n",
            " 0   BP      48 non-null     float64\n",
            " 1   F       48 non-null     float64\n",
            " 2   XOM     48 non-null     float64\n",
            " 3   LNC     48 non-null     float64\n",
            " 4   AAPL    48 non-null     float64\n",
            "dtypes: float64(5)\n",
            "memory usage: 2.2 KB\n"
          ],
          "name": "stdout"
        }
      ]
    },
    {
      "cell_type": "code",
      "metadata": {
        "colab": {
          "base_uri": "https://localhost:8080/",
          "height": 235
        },
        "id": "7S4QCfFNgdyv",
        "outputId": "f055a09d-f924-40bb-bc47-17a6b67799ea"
      },
      "source": [
        "mydata.head()"
      ],
      "execution_count": null,
      "outputs": [
        {
          "output_type": "execute_result",
          "data": {
            "text/html": [
              "<div>\n",
              "<style scoped>\n",
              "    .dataframe tbody tr th:only-of-type {\n",
              "        vertical-align: middle;\n",
              "    }\n",
              "\n",
              "    .dataframe tbody tr th {\n",
              "        vertical-align: top;\n",
              "    }\n",
              "\n",
              "    .dataframe thead th {\n",
              "        text-align: right;\n",
              "    }\n",
              "</style>\n",
              "<table border=\"1\" class=\"dataframe\">\n",
              "  <thead>\n",
              "    <tr style=\"text-align: right;\">\n",
              "      <th></th>\n",
              "      <th>BP</th>\n",
              "      <th>F</th>\n",
              "      <th>XOM</th>\n",
              "      <th>LNC</th>\n",
              "      <th>AAPL</th>\n",
              "    </tr>\n",
              "    <tr>\n",
              "      <th>Date</th>\n",
              "      <th></th>\n",
              "      <th></th>\n",
              "      <th></th>\n",
              "      <th></th>\n",
              "      <th></th>\n",
              "    </tr>\n",
              "  </thead>\n",
              "  <tbody>\n",
              "    <tr>\n",
              "      <th>2021-01-04</th>\n",
              "      <td>20.551737</td>\n",
              "      <td>8.52</td>\n",
              "      <td>40.807007</td>\n",
              "      <td>48.430405</td>\n",
              "      <td>129.216919</td>\n",
              "    </tr>\n",
              "    <tr>\n",
              "      <th>2021-01-05</th>\n",
              "      <td>22.081030</td>\n",
              "      <td>8.65</td>\n",
              "      <td>42.773609</td>\n",
              "      <td>48.718090</td>\n",
              "      <td>130.814514</td>\n",
              "    </tr>\n",
              "    <tr>\n",
              "      <th>2021-01-06</th>\n",
              "      <td>23.097271</td>\n",
              "      <td>8.84</td>\n",
              "      <td>43.865074</td>\n",
              "      <td>52.150478</td>\n",
              "      <td>126.411102</td>\n",
              "    </tr>\n",
              "    <tr>\n",
              "      <th>2021-01-07</th>\n",
              "      <td>23.590591</td>\n",
              "      <td>9.06</td>\n",
              "      <td>44.209229</td>\n",
              "      <td>52.210003</td>\n",
              "      <td>130.724655</td>\n",
              "    </tr>\n",
              "    <tr>\n",
              "      <th>2021-01-08</th>\n",
              "      <td>24.074045</td>\n",
              "      <td>9.00</td>\n",
              "      <td>44.700878</td>\n",
              "      <td>51.410000</td>\n",
              "      <td>131.852966</td>\n",
              "    </tr>\n",
              "  </tbody>\n",
              "</table>\n",
              "</div>"
            ],
            "text/plain": [
              "                   BP     F        XOM        LNC        AAPL\n",
              "Date                                                         \n",
              "2021-01-04  20.551737  8.52  40.807007  48.430405  129.216919\n",
              "2021-01-05  22.081030  8.65  42.773609  48.718090  130.814514\n",
              "2021-01-06  23.097271  8.84  43.865074  52.150478  126.411102\n",
              "2021-01-07  23.590591  9.06  44.209229  52.210003  130.724655\n",
              "2021-01-08  24.074045  9.00  44.700878  51.410000  131.852966"
            ]
          },
          "metadata": {
            "tags": []
          },
          "execution_count": 8
        }
      ]
    },
    {
      "cell_type": "code",
      "metadata": {
        "colab": {
          "base_uri": "https://localhost:8080/",
          "height": 235
        },
        "id": "xWUNm39agdyw",
        "outputId": "f9a84d06-444d-4d44-d3a7-495023ec391b"
      },
      "source": [
        "mydata.tail()"
      ],
      "execution_count": null,
      "outputs": [
        {
          "output_type": "execute_result",
          "data": {
            "text/html": [
              "<div>\n",
              "<style scoped>\n",
              "    .dataframe tbody tr th:only-of-type {\n",
              "        vertical-align: middle;\n",
              "    }\n",
              "\n",
              "    .dataframe tbody tr th {\n",
              "        vertical-align: top;\n",
              "    }\n",
              "\n",
              "    .dataframe thead th {\n",
              "        text-align: right;\n",
              "    }\n",
              "</style>\n",
              "<table border=\"1\" class=\"dataframe\">\n",
              "  <thead>\n",
              "    <tr style=\"text-align: right;\">\n",
              "      <th></th>\n",
              "      <th>BP</th>\n",
              "      <th>F</th>\n",
              "      <th>XOM</th>\n",
              "      <th>LNC</th>\n",
              "      <th>AAPL</th>\n",
              "    </tr>\n",
              "    <tr>\n",
              "      <th>Date</th>\n",
              "      <th></th>\n",
              "      <th></th>\n",
              "      <th></th>\n",
              "      <th></th>\n",
              "      <th></th>\n",
              "    </tr>\n",
              "  </thead>\n",
              "  <tbody>\n",
              "    <tr>\n",
              "      <th>2021-03-08</th>\n",
              "      <td>26.540001</td>\n",
              "      <td>12.65</td>\n",
              "      <td>60.869999</td>\n",
              "      <td>59.959999</td>\n",
              "      <td>116.360001</td>\n",
              "    </tr>\n",
              "    <tr>\n",
              "      <th>2021-03-09</th>\n",
              "      <td>26.110001</td>\n",
              "      <td>12.57</td>\n",
              "      <td>59.930000</td>\n",
              "      <td>60.130001</td>\n",
              "      <td>121.089996</td>\n",
              "    </tr>\n",
              "    <tr>\n",
              "      <th>2021-03-10</th>\n",
              "      <td>26.650000</td>\n",
              "      <td>12.91</td>\n",
              "      <td>61.770000</td>\n",
              "      <td>61.520000</td>\n",
              "      <td>119.980003</td>\n",
              "    </tr>\n",
              "    <tr>\n",
              "      <th>2021-03-11</th>\n",
              "      <td>26.650000</td>\n",
              "      <td>12.81</td>\n",
              "      <td>61.310001</td>\n",
              "      <td>61.709999</td>\n",
              "      <td>121.959999</td>\n",
              "    </tr>\n",
              "    <tr>\n",
              "      <th>2021-03-12</th>\n",
              "      <td>26.959999</td>\n",
              "      <td>13.37</td>\n",
              "      <td>61.970001</td>\n",
              "      <td>62.799999</td>\n",
              "      <td>121.029999</td>\n",
              "    </tr>\n",
              "  </tbody>\n",
              "</table>\n",
              "</div>"
            ],
            "text/plain": [
              "                   BP      F        XOM        LNC        AAPL\n",
              "Date                                                          \n",
              "2021-03-08  26.540001  12.65  60.869999  59.959999  116.360001\n",
              "2021-03-09  26.110001  12.57  59.930000  60.130001  121.089996\n",
              "2021-03-10  26.650000  12.91  61.770000  61.520000  119.980003\n",
              "2021-03-11  26.650000  12.81  61.310001  61.709999  121.959999\n",
              "2021-03-12  26.959999  13.37  61.970001  62.799999  121.029999"
            ]
          },
          "metadata": {
            "tags": []
          },
          "execution_count": 11
        }
      ]
    },
    {
      "cell_type": "markdown",
      "metadata": {
        "id": "_k0E01hNgdyw"
      },
      "source": [
        "### Normalization to 100:\n",
        "\n",
        "$$\n",
        "\\frac {P_t}{P_0} * 100\n",
        "$$"
      ]
    },
    {
      "cell_type": "markdown",
      "metadata": {
        "id": "SM1mCzNWgdyx"
      },
      "source": [
        "Normalize to a hundred and plot the data on a graph (you can apply the .loc() or the .iloc() method). "
      ]
    },
    {
      "cell_type": "code",
      "metadata": {
        "colab": {
          "base_uri": "https://localhost:8080/"
        },
        "id": "LmU82Uzegdyx",
        "outputId": "63e55d8e-933d-4378-a96a-69dea010d632"
      },
      "source": [
        "mydata.iloc[0]"
      ],
      "execution_count": null,
      "outputs": [
        {
          "output_type": "execute_result",
          "data": {
            "text/plain": [
              "BP       20.551737\n",
              "F         8.520000\n",
              "XOM      40.807007\n",
              "LNC      48.430405\n",
              "AAPL    129.216919\n",
              "Name: 2021-01-04 00:00:00, dtype: float64"
            ]
          },
          "metadata": {
            "tags": []
          },
          "execution_count": 12
        }
      ]
    },
    {
      "cell_type": "code",
      "metadata": {
        "colab": {
          "base_uri": "https://localhost:8080/",
          "height": 386
        },
        "id": "WshPD_vqgdyx",
        "outputId": "b56c8417-412c-49b1-d726-219501509ca0"
      },
      "source": [
        "(mydata / mydata.iloc[0] * 100).plot(figsize = (15, 6));\n",
        "plt.show()"
      ],
      "execution_count": null,
      "outputs": [
        {
          "output_type": "display_data",
          "data": {
            "image/png": "[encoded data removed]",
            "text/plain": [
              "<Figure size 1080x432 with 1 Axes>"
            ]
          },
          "metadata": {
            "tags": [],
            "needs_background": "light"
          }
        }
      ]
    },
    {
      "cell_type": "markdown",
      "metadata": {
        "id": "wi5P89M3gdyy"
      },
      "source": [
        "How would you interpret the behavior of the stocks? Just by looking at the chart, would you be able to create a portfolio that provides a solid return on investment?"
      ]
    },
    {
      "cell_type": "markdown",
      "metadata": {
        "id": "3DT9PoeRgdyy"
      },
      "source": [
        "*****"
      ]
    },
    {
      "cell_type": "markdown",
      "metadata": {
        "id": "dYFlOzZLgdyy"
      },
      "source": [
        "### Calculating the Return of a Portfolio of Securities"
      ]
    },
    {
      "cell_type": "markdown",
      "metadata": {
        "id": "jvr-6ythgdyy"
      },
      "source": [
        "Obtain the simple return of the securities in the portfolio and store the results in a new table."
      ]
    },
    {
      "cell_type": "code",
      "metadata": {
        "id": "ZvUcwOXrgdyz",
        "colab": {
          "base_uri": "https://localhost:8080/",
          "height": 235
        },
        "outputId": "eea52fd8-a942-4029-a734-97b059cdf622"
      },
      "source": [
        "returns = (mydata / mydata.shift(1)) - 1\n",
        "returns.head()"
      ],
      "execution_count": null,
      "outputs": [
        {
          "output_type": "execute_result",
          "data": {
            "text/html": [
              "<div>\n",
              "<style scoped>\n",
              "    .dataframe tbody tr th:only-of-type {\n",
              "        vertical-align: middle;\n",
              "    }\n",
              "\n",
              "    .dataframe tbody tr th {\n",
              "        vertical-align: top;\n",
              "    }\n",
              "\n",
              "    .dataframe thead th {\n",
              "        text-align: right;\n",
              "    }\n",
              "</style>\n",
              "<table border=\"1\" class=\"dataframe\">\n",
              "  <thead>\n",
              "    <tr style=\"text-align: right;\">\n",
              "      <th></th>\n",
              "      <th>BP</th>\n",
              "      <th>F</th>\n",
              "      <th>XOM</th>\n",
              "      <th>LNC</th>\n",
              "      <th>AAPL</th>\n",
              "    </tr>\n",
              "    <tr>\n",
              "      <th>Date</th>\n",
              "      <th></th>\n",
              "      <th></th>\n",
              "      <th></th>\n",
              "      <th></th>\n",
              "      <th></th>\n",
              "    </tr>\n",
              "  </thead>\n",
              "  <tbody>\n",
              "    <tr>\n",
              "      <th>2021-01-04</th>\n",
              "      <td>NaN</td>\n",
              "      <td>NaN</td>\n",
              "      <td>NaN</td>\n",
              "      <td>NaN</td>\n",
              "      <td>NaN</td>\n",
              "    </tr>\n",
              "    <tr>\n",
              "      <th>2021-01-05</th>\n",
              "      <td>0.074412</td>\n",
              "      <td>0.015258</td>\n",
              "      <td>0.048193</td>\n",
              "      <td>0.005940</td>\n",
              "      <td>0.012364</td>\n",
              "    </tr>\n",
              "    <tr>\n",
              "      <th>2021-01-06</th>\n",
              "      <td>0.046023</td>\n",
              "      <td>0.021965</td>\n",
              "      <td>0.025517</td>\n",
              "      <td>0.070454</td>\n",
              "      <td>-0.033661</td>\n",
              "    </tr>\n",
              "    <tr>\n",
              "      <th>2021-01-07</th>\n",
              "      <td>0.021358</td>\n",
              "      <td>0.024887</td>\n",
              "      <td>0.007846</td>\n",
              "      <td>0.001141</td>\n",
              "      <td>0.034123</td>\n",
              "    </tr>\n",
              "    <tr>\n",
              "      <th>2021-01-08</th>\n",
              "      <td>0.020493</td>\n",
              "      <td>-0.006623</td>\n",
              "      <td>0.011121</td>\n",
              "      <td>-0.015323</td>\n",
              "      <td>0.008631</td>\n",
              "    </tr>\n",
              "  </tbody>\n",
              "</table>\n",
              "</div>"
            ],
            "text/plain": [
              "                  BP         F       XOM       LNC      AAPL\n",
              "Date                                                        \n",
              "2021-01-04       NaN       NaN       NaN       NaN       NaN\n",
              "2021-01-05  0.074412  0.015258  0.048193  0.005940  0.012364\n",
              "2021-01-06  0.046023  0.021965  0.025517  0.070454 -0.033661\n",
              "2021-01-07  0.021358  0.024887  0.007846  0.001141  0.034123\n",
              "2021-01-08  0.020493 -0.006623  0.011121 -0.015323  0.008631"
            ]
          },
          "metadata": {
            "tags": []
          },
          "execution_count": 14
        }
      ]
    },
    {
      "cell_type": "markdown",
      "metadata": {
        "id": "2Ktcuu1sgdyz"
      },
      "source": [
        "First, assume you would like to create an equally-weighted portfolio. Create the array, naming it “weights”."
      ]
    },
    {
      "cell_type": "code",
      "metadata": {
        "id": "Ta0UrCKjgdyz"
      },
      "source": [
        "weights = np.array([0.20, 0.20, 0.20, 0.20, 0.20])"
      ],
      "execution_count": null,
      "outputs": []
    },
    {
      "cell_type": "markdown",
      "metadata": {
        "id": "lmLihnLpgdyz"
      },
      "source": [
        "Obtain the annual returns of each of the stocks and then calculate the dot product of these returns and the weights."
      ]
    },
    {
      "cell_type": "code",
      "metadata": {
        "id": "8H72QTgxgdy0",
        "colab": {
          "base_uri": "https://localhost:8080/"
        },
        "outputId": "9fda9b45-f84b-4e56-89b6-d3e34f23226c"
      },
      "source": [
        "annual_returns = returns.mean() * 250\n",
        "annual_returns"
      ],
      "execution_count": null,
      "outputs": [
        {
          "output_type": "execute_result",
          "data": {
            "text/plain": [
              "BP      1.548396\n",
              "F       2.498871\n",
              "XOM     2.297433\n",
              "LNC     1.467246\n",
              "AAPL   -0.290007\n",
              "dtype: float64"
            ]
          },
          "metadata": {
            "tags": []
          },
          "execution_count": 22
        }
      ]
    },
    {
      "cell_type": "code",
      "metadata": {
        "id": "-nkLe5nggdy0",
        "colab": {
          "base_uri": "https://localhost:8080/"
        },
        "outputId": "b3b04930-eb05-4412-ea97-a8f74abcfccf"
      },
      "source": [
        "np.dot(annual_returns, weights)"
      ],
      "execution_count": null,
      "outputs": [
        {
          "output_type": "execute_result",
          "data": {
            "text/plain": [
              "1.504387559360693"
            ]
          },
          "metadata": {
            "tags": []
          },
          "execution_count": 23
        }
      ]
    },
    {
      "cell_type": "markdown",
      "metadata": {
        "id": "u04HGEkngdy0"
      },
      "source": [
        "Transform the result into a percentage form. "
      ]
    },
    {
      "cell_type": "code",
      "metadata": {
        "id": "fg9XjEMugdy1",
        "colab": {
          "base_uri": "https://localhost:8080/"
        },
        "outputId": "29606eaf-828e-48b8-e412-4abf5dc4b2a5"
      },
      "source": [
        "pfolio_1 = str(round(np.dot(annual_returns, weights), 5) * 100) + ' %'\n",
        "print (pfolio_1)"
      ],
      "execution_count": null,
      "outputs": [
        {
          "output_type": "stream",
          "text": [
            "150.439 %\n"
          ],
          "name": "stdout"
        }
      ]
    },
    {
      "cell_type": "markdown",
      "metadata": {
        "id": "xksE1Y6vgdy1"
      },
      "source": [
        "Is the return of this portfolio satisfactory?"
      ]
    }
  ]
}